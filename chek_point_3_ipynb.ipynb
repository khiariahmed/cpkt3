{
  "nbformat": 4,
  "nbformat_minor": 0,
  "metadata": {
    "colab": {
      "name": "   chek point 3      ipynb",
      "provenance": []
    },
    "kernelspec": {
      "name": "python3",
      "display_name": "Python 3"
    },
    "language_info": {
      "name": "python"
    }
  },
  "cells": [
    {
      "cell_type": "code",
      "metadata": {
        "colab": {
          "base_uri": "https://localhost:8080/"
        },
        "id": "AkEsmV8NlmGD",
        "outputId": "15b6529c-e78a-45ff-8ce3-de8ca1406dad"
      },
      "source": [
        "list=[2,3,6]\n",
        "x=2\n",
        "y=3\n",
        "z=6\n",
        "result=x*y*z\n",
        "print(result)"
      ],
      "execution_count": 32,
      "outputs": [
        {
          "output_type": "stream",
          "text": [
            "36\n"
          ],
          "name": "stdout"
        }
      ]
    },
    {
      "cell_type": "code",
      "metadata": {
        "colab": {
          "base_uri": "https://localhost:8080/"
        },
        "id": "Kq8iuL0Lnc44",
        "outputId": "d8e6e001-bf69-45e2-8ca5-a362990a3e48"
      },
      "source": [
        "def dernier (structure):\n",
        "  return(structure[-1])\n",
        "def tri(liste):\n",
        "  return(sorted(liste,key=dernier))\n",
        "tri([(2,5),(1,2),(4,4),(2,3),(2,1)])  "
      ],
      "execution_count": 35,
      "outputs": [
        {
          "output_type": "execute_result",
          "data": {
            "text/plain": [
              "[(2, 1), (1, 2), (2, 3), (4, 4), (2, 5)]"
            ]
          },
          "metadata": {
            "tags": []
          },
          "execution_count": 35
        }
      ]
    },
    {
      "cell_type": "code",
      "metadata": {
        "colab": {
          "base_uri": "https://localhost:8080/"
        },
        "id": "Ov2HXuMtoMH_",
        "outputId": "8f7ef0bc-b184-46cd-f899-82f9a1282764"
      },
      "source": [
        "n=8\n",
        "b=n*n\n",
        "print(b)"
      ],
      "execution_count": 36,
      "outputs": [
        {
          "output_type": "stream",
          "text": [
            "64\n"
          ],
          "name": "stdout"
        }
      ]
    },
    {
      "cell_type": "code",
      "metadata": {
        "colab": {
          "base_uri": "https://localhost:8080/"
        },
        "id": "HSxBGl0ToT37",
        "outputId": "cb112447-421d-4f7f-c940-fce81518161d"
      },
      "source": [
        "my_list=[('item1','12.20'),('item2','15.10'),('item3','24.5')]\n",
        "my_list[0]=('item3','24.5')\n",
        "print(my_list)\n",
        "my_list[2]=('item1','12.20')\n",
        "print(my_list)"
      ],
      "execution_count": 37,
      "outputs": [
        {
          "output_type": "stream",
          "text": [
            "[('item3', '24.5'), ('item2', '15.10'), ('item3', '24.5')]\n",
            "[('item3', '24.5'), ('item2', '15.10'), ('item1', '12.20')]\n"
          ],
          "name": "stdout"
        }
      ]
    }
  ]
}